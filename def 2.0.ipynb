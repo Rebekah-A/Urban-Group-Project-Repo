{
  "nbformat": 4,
  "nbformat_minor": 0,
  "metadata": {
    "colab": {
      "provenance": []
    },
    "kernelspec": {
      "name": "python3",
      "display_name": "Python 3"
    },
    "language_info": {
      "name": "python"
    }
  },
  "cells": [
    {
      "cell_type": "markdown",
      "source": [
        "导入模型名称 model = lgb.Booster(model_file=name）"
      ],
      "metadata": {
        "id": "wBFPlMeYhZN_"
      }
    },
    {
      "cell_type": "code",
      "source": [
        "from google.colab import drive\n",
        "drive.mount('/content/drive')"
      ],
      "metadata": {
        "colab": {
          "base_uri": "https://localhost:8080/"
        },
        "id": "mSP9s5euFCfX",
        "outputId": "d3168fc9-f353-4403-e7a1-70fbc079c2f2"
      },
      "execution_count": 1,
      "outputs": [
        {
          "output_type": "stream",
          "name": "stdout",
          "text": [
            "Mounted at /content/drive\n"
          ]
        }
      ]
    },
    {
      "cell_type": "code",
      "source": [
        "import lightgbm as lgb\n",
        "model_original = lgb.Booster(model_file='/content/drive/MyDrive/final_lgbm_model_original2.txt')"
      ],
      "metadata": {
        "id": "wfhuR6pG0mE1"
      },
      "execution_count": 2,
      "outputs": []
    },
    {
      "cell_type": "markdown",
      "source": [
        "可以在def里或者def外引入数据，没有特别需要就在def外引入数据"
      ],
      "metadata": {
        "id": "JHgL9QqChlCJ"
      }
    },
    {
      "cell_type": "code",
      "source": [
        "import pandas as pd\n",
        "data=pd.read_csv('/content/drive/MyDrive/backtest_data.csv')"
      ],
      "metadata": {
        "id": "2k6j6KId_nkp"
      },
      "execution_count": 3,
      "outputs": []
    },
    {
      "cell_type": "code",
      "source": [
        "data"
      ],
      "metadata": {
        "colab": {
          "base_uri": "https://localhost:8080/",
          "height": 505
        },
        "id": "KI9c5c27YEiy",
        "outputId": "6500fd68-5781-4200-8703-6b1fc1aff3e8"
      },
      "execution_count": 4,
      "outputs": [
        {
          "output_type": "execute_result",
          "data": {
            "text/plain": [
              "       Unnamed: 0 tradingDate     windCode    return  alpha001  alpha002  \\\n",
              "0             347  2021-11-01  000002.XSHE -0.109830  0.605654 -0.726960   \n",
              "1             348  2021-11-10  000002.XSHE -0.472381 -0.472381 -0.391176   \n",
              "2             349  2021-11-11  000002.XSHE -0.690147 -0.690147 -0.007541   \n",
              "3             350  2021-11-12  000002.XSHE -0.747660 -0.747660  1.306516   \n",
              "4             351  2021-11-15  000002.XSHE -0.758002 -0.758002 -0.549288   \n",
              "...           ...         ...          ...       ...       ...       ...   \n",
              "76434      104422  2023-03-09  688981.XSHG -0.456323 -0.456323  0.643143   \n",
              "76435      104423  2023-04-03  688981.XSHG -0.637678 -0.637678 -0.612233   \n",
              "76436      104424  2023-04-04  688981.XSHG -0.755875 -0.755875  0.659885   \n",
              "76437      104425  2023-04-06  688981.XSHG -0.718851 -0.718851  0.504868   \n",
              "76438      104426  2023-04-07  688981.XSHG -0.871309 -0.871309 -0.448572   \n",
              "\n",
              "       alpha003  alpha004  alpha005  alpha006  ...   alpha172  alpha175  \\\n",
              "0         -3.89       1.0 -0.870388 -0.373589  ...  24.477415  0.858333   \n",
              "1          1.97      -1.0 -0.907731 -0.655298  ...  37.208386  0.570000   \n",
              "2          3.38      -1.0 -0.907731 -0.668102  ...  29.645068  0.806667   \n",
              "3          2.02      -1.0 -0.893939 -0.602980  ...  22.008523  0.968333   \n",
              "4          1.90      -1.0 -0.874007 -0.602428  ...  16.186720  1.028333   \n",
              "...         ...       ...       ...       ...  ...        ...       ...   \n",
              "76434      1.39       1.0 -0.971965 -0.356056  ...  21.397958  0.865000   \n",
              "76435      3.86       1.0 -0.769800 -0.821226  ...  55.237857  2.253333   \n",
              "76436      7.81      -1.0 -0.769800 -0.717998  ...  54.115498  2.598333   \n",
              "76437     11.24      -1.0 -0.949071 -0.761476  ...  54.532529  3.188333   \n",
              "76438     11.62      -1.0 -0.968246 -0.751314  ...  55.763738  3.258333   \n",
              "\n",
              "       alpha176  alpha177  alpha179  alpha184  alpha187  alpha189  alpha190  \\\n",
              "0     -0.319536      30.0  0.035131  1.412978      5.05  0.856389  0.035531   \n",
              "1      0.748964       5.0  0.219177  1.009661      2.32  0.333333  0.130946   \n",
              "2      0.824131      30.0  0.520134  0.988899      4.21  0.610556 -0.792690   \n",
              "3      0.805236      25.0  0.803621  1.679861      5.76  0.715000 -0.548814   \n",
              "4      0.808271      20.0  0.769289  1.473381      5.76  0.711944 -0.667920   \n",
              "...         ...       ...       ...       ...       ...       ...       ...   \n",
              "76434  0.458067     100.0  0.006899  0.270000      5.13  0.423889 -0.098813   \n",
              "76435  0.821338     100.0  0.178969  0.406667     26.54  1.798056 -1.825900   \n",
              "76436  0.833917     100.0  0.301552  0.393333     30.12  2.332222 -1.703764   \n",
              "76437  0.908831     100.0  0.570676  0.533333     34.23  2.999722 -1.739975   \n",
              "76438  0.916525      95.0  0.423837  0.933333     35.48  3.632500 -1.946415   \n",
              "\n",
              "       alpha191  \n",
              "0     -0.678237  \n",
              "1     -0.550283  \n",
              "2      0.007782  \n",
              "3      1.181890  \n",
              "4      0.938964  \n",
              "...         ...  \n",
              "76434 -0.533001  \n",
              "76435 -1.544389  \n",
              "76436  0.311038  \n",
              "76437  1.362961  \n",
              "76438  0.609283  \n",
              "\n",
              "[76439 rows x 153 columns]"
            ],
            "text/html": [
              "\n",
              "  <div id=\"df-66bab185-84d0-4691-8faa-0f775407bd81\">\n",
              "    <div class=\"colab-df-container\">\n",
              "      <div>\n",
              "<style scoped>\n",
              "    .dataframe tbody tr th:only-of-type {\n",
              "        vertical-align: middle;\n",
              "    }\n",
              "\n",
              "    .dataframe tbody tr th {\n",
              "        vertical-align: top;\n",
              "    }\n",
              "\n",
              "    .dataframe thead th {\n",
              "        text-align: right;\n",
              "    }\n",
              "</style>\n",
              "<table border=\"1\" class=\"dataframe\">\n",
              "  <thead>\n",
              "    <tr style=\"text-align: right;\">\n",
              "      <th></th>\n",
              "      <th>Unnamed: 0</th>\n",
              "      <th>tradingDate</th>\n",
              "      <th>windCode</th>\n",
              "      <th>return</th>\n",
              "      <th>alpha001</th>\n",
              "      <th>alpha002</th>\n",
              "      <th>alpha003</th>\n",
              "      <th>alpha004</th>\n",
              "      <th>alpha005</th>\n",
              "      <th>alpha006</th>\n",
              "      <th>...</th>\n",
              "      <th>alpha172</th>\n",
              "      <th>alpha175</th>\n",
              "      <th>alpha176</th>\n",
              "      <th>alpha177</th>\n",
              "      <th>alpha179</th>\n",
              "      <th>alpha184</th>\n",
              "      <th>alpha187</th>\n",
              "      <th>alpha189</th>\n",
              "      <th>alpha190</th>\n",
              "      <th>alpha191</th>\n",
              "    </tr>\n",
              "  </thead>\n",
              "  <tbody>\n",
              "    <tr>\n",
              "      <th>0</th>\n",
              "      <td>347</td>\n",
              "      <td>2021-11-01</td>\n",
              "      <td>000002.XSHE</td>\n",
              "      <td>-0.109830</td>\n",
              "      <td>0.605654</td>\n",
              "      <td>-0.726960</td>\n",
              "      <td>-3.89</td>\n",
              "      <td>1.0</td>\n",
              "      <td>-0.870388</td>\n",
              "      <td>-0.373589</td>\n",
              "      <td>...</td>\n",
              "      <td>24.477415</td>\n",
              "      <td>0.858333</td>\n",
              "      <td>-0.319536</td>\n",
              "      <td>30.0</td>\n",
              "      <td>0.035131</td>\n",
              "      <td>1.412978</td>\n",
              "      <td>5.05</td>\n",
              "      <td>0.856389</td>\n",
              "      <td>0.035531</td>\n",
              "      <td>-0.678237</td>\n",
              "    </tr>\n",
              "    <tr>\n",
              "      <th>1</th>\n",
              "      <td>348</td>\n",
              "      <td>2021-11-10</td>\n",
              "      <td>000002.XSHE</td>\n",
              "      <td>-0.472381</td>\n",
              "      <td>-0.472381</td>\n",
              "      <td>-0.391176</td>\n",
              "      <td>1.97</td>\n",
              "      <td>-1.0</td>\n",
              "      <td>-0.907731</td>\n",
              "      <td>-0.655298</td>\n",
              "      <td>...</td>\n",
              "      <td>37.208386</td>\n",
              "      <td>0.570000</td>\n",
              "      <td>0.748964</td>\n",
              "      <td>5.0</td>\n",
              "      <td>0.219177</td>\n",
              "      <td>1.009661</td>\n",
              "      <td>2.32</td>\n",
              "      <td>0.333333</td>\n",
              "      <td>0.130946</td>\n",
              "      <td>-0.550283</td>\n",
              "    </tr>\n",
              "    <tr>\n",
              "      <th>2</th>\n",
              "      <td>349</td>\n",
              "      <td>2021-11-11</td>\n",
              "      <td>000002.XSHE</td>\n",
              "      <td>-0.690147</td>\n",
              "      <td>-0.690147</td>\n",
              "      <td>-0.007541</td>\n",
              "      <td>3.38</td>\n",
              "      <td>-1.0</td>\n",
              "      <td>-0.907731</td>\n",
              "      <td>-0.668102</td>\n",
              "      <td>...</td>\n",
              "      <td>29.645068</td>\n",
              "      <td>0.806667</td>\n",
              "      <td>0.824131</td>\n",
              "      <td>30.0</td>\n",
              "      <td>0.520134</td>\n",
              "      <td>0.988899</td>\n",
              "      <td>4.21</td>\n",
              "      <td>0.610556</td>\n",
              "      <td>-0.792690</td>\n",
              "      <td>0.007782</td>\n",
              "    </tr>\n",
              "    <tr>\n",
              "      <th>3</th>\n",
              "      <td>350</td>\n",
              "      <td>2021-11-12</td>\n",
              "      <td>000002.XSHE</td>\n",
              "      <td>-0.747660</td>\n",
              "      <td>-0.747660</td>\n",
              "      <td>1.306516</td>\n",
              "      <td>2.02</td>\n",
              "      <td>-1.0</td>\n",
              "      <td>-0.893939</td>\n",
              "      <td>-0.602980</td>\n",
              "      <td>...</td>\n",
              "      <td>22.008523</td>\n",
              "      <td>0.968333</td>\n",
              "      <td>0.805236</td>\n",
              "      <td>25.0</td>\n",
              "      <td>0.803621</td>\n",
              "      <td>1.679861</td>\n",
              "      <td>5.76</td>\n",
              "      <td>0.715000</td>\n",
              "      <td>-0.548814</td>\n",
              "      <td>1.181890</td>\n",
              "    </tr>\n",
              "    <tr>\n",
              "      <th>4</th>\n",
              "      <td>351</td>\n",
              "      <td>2021-11-15</td>\n",
              "      <td>000002.XSHE</td>\n",
              "      <td>-0.758002</td>\n",
              "      <td>-0.758002</td>\n",
              "      <td>-0.549288</td>\n",
              "      <td>1.90</td>\n",
              "      <td>-1.0</td>\n",
              "      <td>-0.874007</td>\n",
              "      <td>-0.602428</td>\n",
              "      <td>...</td>\n",
              "      <td>16.186720</td>\n",
              "      <td>1.028333</td>\n",
              "      <td>0.808271</td>\n",
              "      <td>20.0</td>\n",
              "      <td>0.769289</td>\n",
              "      <td>1.473381</td>\n",
              "      <td>5.76</td>\n",
              "      <td>0.711944</td>\n",
              "      <td>-0.667920</td>\n",
              "      <td>0.938964</td>\n",
              "    </tr>\n",
              "    <tr>\n",
              "      <th>...</th>\n",
              "      <td>...</td>\n",
              "      <td>...</td>\n",
              "      <td>...</td>\n",
              "      <td>...</td>\n",
              "      <td>...</td>\n",
              "      <td>...</td>\n",
              "      <td>...</td>\n",
              "      <td>...</td>\n",
              "      <td>...</td>\n",
              "      <td>...</td>\n",
              "      <td>...</td>\n",
              "      <td>...</td>\n",
              "      <td>...</td>\n",
              "      <td>...</td>\n",
              "      <td>...</td>\n",
              "      <td>...</td>\n",
              "      <td>...</td>\n",
              "      <td>...</td>\n",
              "      <td>...</td>\n",
              "      <td>...</td>\n",
              "      <td>...</td>\n",
              "    </tr>\n",
              "    <tr>\n",
              "      <th>76434</th>\n",
              "      <td>104422</td>\n",
              "      <td>2023-03-09</td>\n",
              "      <td>688981.XSHG</td>\n",
              "      <td>-0.456323</td>\n",
              "      <td>-0.456323</td>\n",
              "      <td>0.643143</td>\n",
              "      <td>1.39</td>\n",
              "      <td>1.0</td>\n",
              "      <td>-0.971965</td>\n",
              "      <td>-0.356056</td>\n",
              "      <td>...</td>\n",
              "      <td>21.397958</td>\n",
              "      <td>0.865000</td>\n",
              "      <td>0.458067</td>\n",
              "      <td>100.0</td>\n",
              "      <td>0.006899</td>\n",
              "      <td>0.270000</td>\n",
              "      <td>5.13</td>\n",
              "      <td>0.423889</td>\n",
              "      <td>-0.098813</td>\n",
              "      <td>-0.533001</td>\n",
              "    </tr>\n",
              "    <tr>\n",
              "      <th>76435</th>\n",
              "      <td>104423</td>\n",
              "      <td>2023-04-03</td>\n",
              "      <td>688981.XSHG</td>\n",
              "      <td>-0.637678</td>\n",
              "      <td>-0.637678</td>\n",
              "      <td>-0.612233</td>\n",
              "      <td>3.86</td>\n",
              "      <td>1.0</td>\n",
              "      <td>-0.769800</td>\n",
              "      <td>-0.821226</td>\n",
              "      <td>...</td>\n",
              "      <td>55.237857</td>\n",
              "      <td>2.253333</td>\n",
              "      <td>0.821338</td>\n",
              "      <td>100.0</td>\n",
              "      <td>0.178969</td>\n",
              "      <td>0.406667</td>\n",
              "      <td>26.54</td>\n",
              "      <td>1.798056</td>\n",
              "      <td>-1.825900</td>\n",
              "      <td>-1.544389</td>\n",
              "    </tr>\n",
              "    <tr>\n",
              "      <th>76436</th>\n",
              "      <td>104424</td>\n",
              "      <td>2023-04-04</td>\n",
              "      <td>688981.XSHG</td>\n",
              "      <td>-0.755875</td>\n",
              "      <td>-0.755875</td>\n",
              "      <td>0.659885</td>\n",
              "      <td>7.81</td>\n",
              "      <td>-1.0</td>\n",
              "      <td>-0.769800</td>\n",
              "      <td>-0.717998</td>\n",
              "      <td>...</td>\n",
              "      <td>54.115498</td>\n",
              "      <td>2.598333</td>\n",
              "      <td>0.833917</td>\n",
              "      <td>100.0</td>\n",
              "      <td>0.301552</td>\n",
              "      <td>0.393333</td>\n",
              "      <td>30.12</td>\n",
              "      <td>2.332222</td>\n",
              "      <td>-1.703764</td>\n",
              "      <td>0.311038</td>\n",
              "    </tr>\n",
              "    <tr>\n",
              "      <th>76437</th>\n",
              "      <td>104425</td>\n",
              "      <td>2023-04-06</td>\n",
              "      <td>688981.XSHG</td>\n",
              "      <td>-0.718851</td>\n",
              "      <td>-0.718851</td>\n",
              "      <td>0.504868</td>\n",
              "      <td>11.24</td>\n",
              "      <td>-1.0</td>\n",
              "      <td>-0.949071</td>\n",
              "      <td>-0.761476</td>\n",
              "      <td>...</td>\n",
              "      <td>54.532529</td>\n",
              "      <td>3.188333</td>\n",
              "      <td>0.908831</td>\n",
              "      <td>100.0</td>\n",
              "      <td>0.570676</td>\n",
              "      <td>0.533333</td>\n",
              "      <td>34.23</td>\n",
              "      <td>2.999722</td>\n",
              "      <td>-1.739975</td>\n",
              "      <td>1.362961</td>\n",
              "    </tr>\n",
              "    <tr>\n",
              "      <th>76438</th>\n",
              "      <td>104426</td>\n",
              "      <td>2023-04-07</td>\n",
              "      <td>688981.XSHG</td>\n",
              "      <td>-0.871309</td>\n",
              "      <td>-0.871309</td>\n",
              "      <td>-0.448572</td>\n",
              "      <td>11.62</td>\n",
              "      <td>-1.0</td>\n",
              "      <td>-0.968246</td>\n",
              "      <td>-0.751314</td>\n",
              "      <td>...</td>\n",
              "      <td>55.763738</td>\n",
              "      <td>3.258333</td>\n",
              "      <td>0.916525</td>\n",
              "      <td>95.0</td>\n",
              "      <td>0.423837</td>\n",
              "      <td>0.933333</td>\n",
              "      <td>35.48</td>\n",
              "      <td>3.632500</td>\n",
              "      <td>-1.946415</td>\n",
              "      <td>0.609283</td>\n",
              "    </tr>\n",
              "  </tbody>\n",
              "</table>\n",
              "<p>76439 rows × 153 columns</p>\n",
              "</div>\n",
              "      <button class=\"colab-df-convert\" onclick=\"convertToInteractive('df-66bab185-84d0-4691-8faa-0f775407bd81')\"\n",
              "              title=\"Convert this dataframe to an interactive table.\"\n",
              "              style=\"display:none;\">\n",
              "        \n",
              "  <svg xmlns=\"http://www.w3.org/2000/svg\" height=\"24px\"viewBox=\"0 0 24 24\"\n",
              "       width=\"24px\">\n",
              "    <path d=\"M0 0h24v24H0V0z\" fill=\"none\"/>\n",
              "    <path d=\"M18.56 5.44l.94 2.06.94-2.06 2.06-.94-2.06-.94-.94-2.06-.94 2.06-2.06.94zm-11 1L8.5 8.5l.94-2.06 2.06-.94-2.06-.94L8.5 2.5l-.94 2.06-2.06.94zm10 10l.94 2.06.94-2.06 2.06-.94-2.06-.94-.94-2.06-.94 2.06-2.06.94z\"/><path d=\"M17.41 7.96l-1.37-1.37c-.4-.4-.92-.59-1.43-.59-.52 0-1.04.2-1.43.59L10.3 9.45l-7.72 7.72c-.78.78-.78 2.05 0 2.83L4 21.41c.39.39.9.59 1.41.59.51 0 1.02-.2 1.41-.59l7.78-7.78 2.81-2.81c.8-.78.8-2.07 0-2.86zM5.41 20L4 18.59l7.72-7.72 1.47 1.35L5.41 20z\"/>\n",
              "  </svg>\n",
              "      </button>\n",
              "      \n",
              "  <style>\n",
              "    .colab-df-container {\n",
              "      display:flex;\n",
              "      flex-wrap:wrap;\n",
              "      gap: 12px;\n",
              "    }\n",
              "\n",
              "    .colab-df-convert {\n",
              "      background-color: #E8F0FE;\n",
              "      border: none;\n",
              "      border-radius: 50%;\n",
              "      cursor: pointer;\n",
              "      display: none;\n",
              "      fill: #1967D2;\n",
              "      height: 32px;\n",
              "      padding: 0 0 0 0;\n",
              "      width: 32px;\n",
              "    }\n",
              "\n",
              "    .colab-df-convert:hover {\n",
              "      background-color: #E2EBFA;\n",
              "      box-shadow: 0px 1px 2px rgba(60, 64, 67, 0.3), 0px 1px 3px 1px rgba(60, 64, 67, 0.15);\n",
              "      fill: #174EA6;\n",
              "    }\n",
              "\n",
              "    [theme=dark] .colab-df-convert {\n",
              "      background-color: #3B4455;\n",
              "      fill: #D2E3FC;\n",
              "    }\n",
              "\n",
              "    [theme=dark] .colab-df-convert:hover {\n",
              "      background-color: #434B5C;\n",
              "      box-shadow: 0px 1px 3px 1px rgba(0, 0, 0, 0.15);\n",
              "      filter: drop-shadow(0px 1px 2px rgba(0, 0, 0, 0.3));\n",
              "      fill: #FFFFFF;\n",
              "    }\n",
              "  </style>\n",
              "\n",
              "      <script>\n",
              "        const buttonEl =\n",
              "          document.querySelector('#df-66bab185-84d0-4691-8faa-0f775407bd81 button.colab-df-convert');\n",
              "        buttonEl.style.display =\n",
              "          google.colab.kernel.accessAllowed ? 'block' : 'none';\n",
              "\n",
              "        async function convertToInteractive(key) {\n",
              "          const element = document.querySelector('#df-66bab185-84d0-4691-8faa-0f775407bd81');\n",
              "          const dataTable =\n",
              "            await google.colab.kernel.invokeFunction('convertToInteractive',\n",
              "                                                     [key], {});\n",
              "          if (!dataTable) return;\n",
              "\n",
              "          const docLinkHtml = 'Like what you see? Visit the ' +\n",
              "            '<a target=\"_blank\" href=https://colab.research.google.com/notebooks/data_table.ipynb>data table notebook</a>'\n",
              "            + ' to learn more about interactive tables.';\n",
              "          element.innerHTML = '';\n",
              "          dataTable['output_type'] = 'display_data';\n",
              "          await google.colab.output.renderOutput(dataTable, element);\n",
              "          const docLink = document.createElement('div');\n",
              "          docLink.innerHTML = docLinkHtml;\n",
              "          element.appendChild(docLink);\n",
              "        }\n",
              "      </script>\n",
              "    </div>\n",
              "  </div>\n",
              "  "
            ]
          },
          "metadata": {},
          "execution_count": 4
        }
      ]
    },
    {
      "cell_type": "markdown",
      "source": [
        "特征工程提取出的最有影响力的因子（自变量名称）"
      ],
      "metadata": {
        "id": "d3Hjrw2Zga2g"
      }
    },
    {
      "cell_type": "code",
      "source": [
        "X_column_original=['alpha047', 'alpha076', 'alpha063', 'alpha115', 'alpha005', 'alpha057',\n",
        "       'alpha139', 'alpha016', 'alpha145', 'alpha064', 'alpha008', 'alpha028',\n",
        "       'alpha014', 'alpha121', 'alpha010', 'alpha127', 'alpha146', 'alpha066',\n",
        "       'alpha108', 'alpha157', 'alpha078', 'alpha073', 'alpha041', 'alpha029',\n",
        "       'alpha179', 'alpha170', 'alpha065', 'alpha062', 'alpha048', 'alpha159',\n",
        "       'alpha070', 'alpha015', 'alpha022', 'alpha033', 'alpha168', 'alpha113',\n",
        "       'alpha102', 'alpha074', 'alpha090', 'alpha025', 'alpha083', 'alpha104',\n",
        "       'alpha006', 'alpha176', 'alpha019', 'alpha099', 'alpha018', 'alpha020',\n",
        "       'alpha080', 'alpha001'] "
      ],
      "metadata": {
        "id": "zGdQknwCHHfq"
      },
      "execution_count": 5,
      "outputs": []
    },
    {
      "cell_type": "markdown",
      "source": [
        "get input数据的函数"
      ],
      "metadata": {
        "id": "pTGnc7azgvVX"
      }
    },
    {
      "cell_type": "code",
      "source": [
        "def X_input_original(filepath,date,code):\n",
        "  data1=pd.read_csv(filepath)\n",
        "  input=data1[(data1['tradingDate'] == date) & (data1['windCode'] == code)][X_column_original]\n",
        "  return input"
      ],
      "metadata": {
        "id": "cyA-IvMPUAra"
      },
      "execution_count": 6,
      "outputs": []
    },
    {
      "cell_type": "code",
      "source": [
        "X_original=X_input_original('/content/drive/MyDrive/backtest_data.csv','2021-11-01','688981.XSHG')"
      ],
      "metadata": {
        "id": "KtHXyBMvUInD"
      },
      "execution_count": 7,
      "outputs": []
    },
    {
      "cell_type": "markdown",
      "source": [
        "688981股票在2021.11.02号的股票增长预测"
      ],
      "metadata": {
        "id": "XJDcOqqghIro"
      }
    },
    {
      "cell_type": "code",
      "source": [
        "model_original.predict(X_original)"
      ],
      "metadata": {
        "colab": {
          "base_uri": "https://localhost:8080/"
        },
        "id": "CU3IX6N9UWJa",
        "outputId": "97dc0ef0-9c39-4b9d-d4c4-a66a4ea7afb7"
      },
      "execution_count": 8,
      "outputs": [
        {
          "output_type": "execute_result",
          "data": {
            "text/plain": [
              "array([0.18795397])"
            ]
          },
          "metadata": {},
          "execution_count": 8
        }
      ]
    },
    {
      "cell_type": "code",
      "source": [
        "data[data['windCode']=='688981.XSHG'][data['tradingDate']=='2021-11-02']['return']"
      ],
      "metadata": {
        "colab": {
          "base_uri": "https://localhost:8080/"
        },
        "id": "Ird9VEgogFkb",
        "outputId": "1b3347c6-0e03-4f45-f88a-c895c07fb6f3"
      },
      "execution_count": 15,
      "outputs": [
        {
          "output_type": "stream",
          "name": "stderr",
          "text": [
            "<ipython-input-15-990f1913e56b>:1: UserWarning: Boolean Series key will be reindexed to match DataFrame index.\n",
            "  data[data['windCode']=='688981.XSHG'][data['tradingDate']=='2021-11-02']['return']\n"
          ]
        },
        {
          "output_type": "execute_result",
          "data": {
            "text/plain": [
              "76100   -0.324623\n",
              "Name: return, dtype: float64"
            ]
          },
          "metadata": {},
          "execution_count": 15
        }
      ]
    }
  ]
}